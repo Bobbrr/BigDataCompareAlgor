{
 "cells": [
  {
   "cell_type": "code",
   "execution_count": 2,
   "metadata": {
    "collapsed": true,
    "deletable": true,
    "editable": true
   },
   "outputs": [],
   "source": [
    "from datetime import datetime\n",
    "import pandas as pd\n",
    "import numpy as np\n",
    "import timeit\n"
   ]
  },
  {
   "cell_type": "code",
   "execution_count": 93,
   "metadata": {
    "collapsed": false,
    "deletable": true,
    "editable": true
   },
   "outputs": [],
   "source": [
    "# data = np.genfromtxt('data.txt', delimiter=';', names=True,\n",
    "#                      dtype=['S10','S8','f8','f8','f8','f8','f8','f8','f8' ]\n",
    "#                     )\n",
    "# data.dtype"
   ]
  },
  {
   "cell_type": "code",
   "execution_count": 15,
   "metadata": {
    "collapsed": false,
    "deletable": true,
    "editable": true
   },
   "outputs": [],
   "source": [
    "#Read txt file and writing to DataFrame object\n",
    "\n",
    "df = pd.read_table('data.txt',sep=';', header=0)\n",
    "\n",
    "#Delete NaN values\n",
    "df.replace(to_replace=\"?\", value=\"NaN\", inplace=True)\n",
    "df = df.dropna()\n",
    "\n",
    "#Convert to number\n",
    "df[['Global_active_power', 'Global_reactive_power',\n",
    "       'Voltage', 'Global_intensity', 'Sub_metering_1', 'Sub_metering_2',\n",
    "       'Sub_metering_3']] = df[['Global_active_power', 'Global_reactive_power',\n",
    "       'Voltage', 'Global_intensity', 'Sub_metering_1', 'Sub_metering_2',\n",
    "       'Sub_metering_3']].apply(pd.to_numeric)"
   ]
  },
  {
   "cell_type": "code",
   "execution_count": 11,
   "metadata": {
    "collapsed": false,
    "deletable": true,
    "editable": true
   },
   "outputs": [],
   "source": [
    "#Create ndarrays object to use DataFrame\n",
    "arr = df.as_matrix()"
   ]
  },
  {
   "cell_type": "code",
   "execution_count": 16,
   "metadata": {
    "collapsed": false,
    "deletable": true,
    "editable": true
   },
   "outputs": [
    {
     "name": "stdout",
     "output_type": "stream",
     "text": [
      "2049280\n",
      "2049280\n"
     ]
    }
   ],
   "source": [
    "print(len(df))\n",
    "print(len(arr))"
   ]
  },
  {
   "cell_type": "code",
   "execution_count": 17,
   "metadata": {
    "collapsed": false,
    "deletable": true,
    "editable": true
   },
   "outputs": [
    {
     "data": {
      "text/plain": [
       "Index([u'Date', u'Time', u'Global_active_power', u'Global_reactive_power',\n",
       "       u'Voltage', u'Global_intensity', u'Sub_metering_1', u'Sub_metering_2',\n",
       "       u'Sub_metering_3'],\n",
       "      dtype='object')"
      ]
     },
     "execution_count": 17,
     "metadata": {},
     "output_type": "execute_result"
    }
   ],
   "source": [
    "df.columns"
   ]
  },
  {
   "cell_type": "markdown",
   "metadata": {
    "deletable": true,
    "editable": true
   },
   "source": [
    "    1. Обрати всі домогосподарства, у яких загальна активна споживана потужність перевищує 5 кВт."
   ]
  },
  {
   "cell_type": "code",
   "execution_count": 47,
   "metadata": {
    "collapsed": false,
    "deletable": true,
    "editable": true
   },
   "outputs": [
    {
     "name": "stdout",
     "output_type": "stream",
     "text": [
      "DataFrame:\n",
      "100 loops, best of 3: 2.51 ms per loop\n",
      "NumPy Array:\n",
      "10 loops, best of 3: 75.8 ms per loop\n"
     ]
    }
   ],
   "source": [
    "# timeit.Timer(\n",
    "#     stmt='df.index'\n",
    "#     #setup='from __main__ import df'\n",
    "#             ).timeit()\n",
    "\n",
    "print(\"DataFrame:\")\n",
    "%timeit df[df['Global_reactive_power'] > 5]\n",
    "\n",
    "print(\"NumPy Array:\")\n",
    "%timeit arr[arr[:,2]>5]"
   ]
  },
  {
   "cell_type": "markdown",
   "metadata": {
    "deletable": true,
    "editable": true
   },
   "source": [
    "    2. Обрати всі домогосподарства, у яких вольтаж перевищую 235 В."
   ]
  },
  {
   "cell_type": "code",
   "execution_count": 46,
   "metadata": {
    "collapsed": false,
    "deletable": true,
    "editable": true
   },
   "outputs": [
    {
     "name": "stdout",
     "output_type": "stream",
     "text": [
      "DataFrame:\n",
      "10 loops, best of 3: 134 ms per loop\n",
      "NumPy Array:\n",
      "1 loop, best of 3: 414 ms per loop\n"
     ]
    }
   ],
   "source": [
    "print(\"DataFrame:\")\n",
    "%timeit df[df['Voltage'] > 235]\n",
    "\n",
    "print(\"NumPy Array:\")\n",
    "%timeit arr[arr[:,4] > 235]"
   ]
  },
  {
   "cell_type": "markdown",
   "metadata": {
    "deletable": true,
    "editable": true
   },
   "source": [
    "    3. Обрати всі домогосподарства, у яких сила струму лежить в межах 19-20 А, для них виявити ті, у яких пральна машина та холодильних споживають більше, ніж бойлер та кондиціонер."
   ]
  },
  {
   "cell_type": "code",
   "execution_count": 45,
   "metadata": {
    "collapsed": false,
    "deletable": true,
    "editable": true
   },
   "outputs": [
    {
     "name": "stdout",
     "output_type": "stream",
     "text": [
      "DataFrame:\n",
      "100 loops, best of 3: 9.67 ms per loop\n",
      "NumPy Array:\n",
      "10 loops, best of 3: 146 ms per loop\n"
     ]
    }
   ],
   "source": [
    "def dataFrame():\n",
    "    intensity = df[(df['Global_intensity'] >= 19) & (df['Global_intensity'] <= 20)]\n",
    "    return intensity[intensity['Sub_metering_2'] > intensity['Sub_metering_3']]\n",
    "\n",
    "def arrays():\n",
    "    intensity = arr[(arr[:,5] >= 19) & (arr[:,5] <= 20)]\n",
    "    return intensity[intensity[:,7] > intensity[:,8]]\n",
    "\n",
    "print(\"DataFrame:\")\n",
    "%timeit dataFrame()\n",
    "\n",
    "print(\"NumPy Array:\")\n",
    "%timeit arrays()"
   ]
  },
  {
   "cell_type": "markdown",
   "metadata": {
    "deletable": true,
    "editable": true
   },
   "source": [
    "    4.Обрати випадковим чином 500000 домогосподарств (без повторів елементів вибірки), для них обчислити середні величини усіх 3-х груп споживання електричної енергії, а також "
   ]
  },
  {
   "cell_type": "code",
   "execution_count": 44,
   "metadata": {
    "collapsed": false,
    "deletable": true,
    "editable": true
   },
   "outputs": [
    {
     "name": "stdout",
     "output_type": "stream",
     "text": [
      "DataFrame:\n",
      "1 loop, best of 3: 336 ms per loop\n",
      "NumPy Array:\n",
      "1 loop, best of 3: 981 ms per loop\n"
     ]
    }
   ],
   "source": [
    "def get_DF():\n",
    "    newDF = df.ix[np.random.choice(range(len(df)), size=500000, replace=False)]\n",
    "    return [np.mean(newDF['Sub_metering_1']), np.mean(newDF['Sub_metering_2']), np.mean(newDF['Sub_metering_3'])]\n",
    "def get_NP():\n",
    "    newNP = arr[np.random.choice(range(len(df)), size=500000, replace=False),:]\n",
    "    return [np.mean(newNP[:,6]), np.mean(newNP[:,7]), np.mean(newNP[:,8])]\n",
    "   \n",
    "print(\"DataFrame:\")\n",
    "%timeit get_DF()\n",
    "\n",
    "print(\"NumPy Array:\")\n",
    "%timeit get_NP()"
   ]
  },
  {
   "cell_type": "markdown",
   "metadata": {
    "deletable": true,
    "editable": true
   },
   "source": [
    "    5. Обрати ті домогосподарства, які після 18-00 споживають понад 6 кВт за хвилину в середньому, серед відібраних визначити ті, у яких основне споживання електроенергії у вказаний проміжок часу припадає на пральну машину, сушарку, холодильник та освітлення (група 2 є найбільшою), а потім обрати кожен третій результат із першої половини та кожен четвертий результат із другої половини."
   ]
  },
  {
   "cell_type": "code",
   "execution_count": 43,
   "metadata": {
    "collapsed": false,
    "deletable": true,
    "editable": true
   },
   "outputs": [
    {
     "name": "stdout",
     "output_type": "stream",
     "text": [
      "DataFrame:\n",
      "10 loops, best of 3: 87.5 ms per loop\n",
      "NumPy Array:\n",
      "1 loop, best of 3: 213 ms per loop\n"
     ]
    }
   ],
   "source": [
    "def five_DF():\n",
    "    firstCh = df[(df['Time']>'18:00:00') & (df['Global_active_power']>6) \n",
    "                 & (df['Sub_metering_2'] > df['Sub_metering_3']) \n",
    "                 & (df['Sub_metering_2'] > df['Sub_metering_3'])\n",
    "                ]   \n",
    "    third = firstCh.iloc[0:len(firstCh)/2:3, :]\n",
    "    fourth = firstCh.iloc[len(firstCh)/2+1::4,:]\n",
    "    return third,fourth\n",
    "def five_NP():\n",
    "    firstNP = arr[(arr[:,1]>'18:00:00') & (arr[:,2]>6 )\n",
    "                 & (arr[:,7]>arr[:,8])\n",
    "                 & (arr[:,7]>arr[:,6])\n",
    "                 ]\n",
    "    third = firstNP[0:len(firstNP)/2:3, :]\n",
    "    fourth = firstNP[len(firstNP)/2+1::4,:]\n",
    "    return third, fourth\n",
    "print(\"DataFrame:\")\n",
    "%timeit five_DF()\n",
    "\n",
    "print(\"NumPy Array:\")\n",
    "%timeit five_NP()"
   ]
  },
  {
   "cell_type": "markdown",
   "metadata": {},
   "source": [
    "# THE END"
   ]
  }
 ],
 "metadata": {
  "kernelspec": {
   "display_name": "Python 2",
   "language": "python",
   "name": "python2"
  },
  "language_info": {
   "codemirror_mode": {
    "name": "ipython",
    "version": 2
   },
   "file_extension": ".py",
   "mimetype": "text/x-python",
   "name": "python",
   "nbconvert_exporter": "python",
   "pygments_lexer": "ipython2",
   "version": "2.7.12"
  }
 },
 "nbformat": 4,
 "nbformat_minor": 2
}
